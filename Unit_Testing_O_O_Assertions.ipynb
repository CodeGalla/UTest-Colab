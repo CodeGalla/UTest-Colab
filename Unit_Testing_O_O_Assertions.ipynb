{
  "nbformat": 4,
  "nbformat_minor": 0,
  "metadata": {
    "colab": {
      "provenance": [],
      "authorship_tag": "ABX9TyMW/5E/T6M1NTAkrRmO5pJ7",
      "include_colab_link": true
    },
    "kernelspec": {
      "name": "python3",
      "display_name": "Python 3"
    },
    "language_info": {
      "name": "python"
    }
  },
  "cells": [
    {
      "cell_type": "markdown",
      "metadata": {
        "id": "view-in-github",
        "colab_type": "text"
      },
      "source": [
        "<a href=\"https://colab.research.google.com/github/CodeGalla/UTest-Colab/blob/main/Unit_Testing_O_O_Assertions.ipynb\" target=\"_parent\"><img src=\"https://colab.research.google.com/assets/colab-badge.svg\" alt=\"Open In Colab\"/></a>"
      ]
    },
    {
      "cell_type": "markdown",
      "source": [
        "### Palindrome Unit Testing"
      ],
      "metadata": {
        "id": "rU4wFpcPZg36"
      }
    },
    {
      "cell_type": "code",
      "source": [
        "def is_palindrome(string: str) -> bool:\n",
        "\n",
        "    string = string.lower().replace(\" \", \"\")\n",
        "    return string == string[::-1]\n",
        "\n",
        "def test_is_palindrome():\n",
        "    assert is_palindrome(\"racecar\") == True, '<racecar> is palindrome'\n",
        "    assert is_palindrome(\"hello\") == False, '<hello> is not palindrome'\n",
        "    assert is_palindrome(\"A man a plan a canal Panama\") == True,' <A man a plan a canal Panama> is palindrome'\n",
        "    assert is_palindrome(\"12321\") == True, '<12321> is palindrome'\n",
        "    assert is_palindrome(\"not a palindrome\") == False, '<not a palindrome> is note palindrome'\n",
        "    print(\"All tests passed successfully.\")\n",
        "\n",
        "if __name__ == '__main__':\n",
        "    test_is_palindrome()"
      ],
      "metadata": {
        "colab": {
          "base_uri": "https://localhost:8080/"
        },
        "id": "QAO4q3v0ZVUY",
        "outputId": "f53f1741-9f3f-4850-b031-6b4f2b934af4"
      },
      "execution_count": null,
      "outputs": [
        {
          "output_type": "stream",
          "name": "stdout",
          "text": [
            "All tests passed successfully.\n"
          ]
        }
      ]
    },
    {
      "cell_type": "markdown",
      "source": [
        "### Tests Cases as Tuple"
      ],
      "metadata": {
        "id": "Yxj-Aov7cDSd"
      }
    },
    {
      "cell_type": "code",
      "source": [
        "def find_max_min(numbers: list) -> tuple:\n",
        "\n",
        "    if not numbers:\n",
        "        raise ValueError(\"List is empty\")\n",
        "\n",
        "    maximum = minimum = numbers[0]\n",
        "\n",
        "    for number in numbers[1:]:\n",
        "        if number > maximum:\n",
        "            maximum = number\n",
        "        elif number < minimum:\n",
        "            minimum = number\n",
        "\n",
        "    return maximum, minimum\n",
        "\n",
        "def test_find_max_min():\n",
        "    assert find_max_min([1, 2, 3, 4, 5]) == (5, 1)\n",
        "    assert find_max_min([10, 5, 7, 3, 8]) == (10, 3)\n",
        "    assert find_max_min([-1, -2, -3, -4, -5]) == (-1,-5)\n",
        "    assert find_max_min([0]) == (0, 0)\n",
        "\n",
        "    try:\n",
        "\n",
        "        find_max_min([])\n",
        "        assert False # This line should not be reach\n",
        "\n",
        "    except ValueError:\n",
        "        pass\n",
        "\n",
        "    print('All tests passed successfully.')\n",
        "\n",
        "if __name__ == '__main__':\n",
        "    test_find_max_min()"
      ],
      "metadata": {
        "colab": {
          "base_uri": "https://localhost:8080/"
        },
        "id": "VFArVQL0ZvSx",
        "outputId": "099aac8f-380e-4754-c7ea-9b9495f6db70"
      },
      "execution_count": null,
      "outputs": [
        {
          "output_type": "stream",
          "name": "stdout",
          "text": [
            "All tests passed successfully.\n"
          ]
        }
      ]
    },
    {
      "cell_type": "code",
      "source": [
        "def divide(a: float, b: float) -> float:\n",
        "    assert b != 0, \"Divisor cannot be zero\"\n",
        "    return a / b\n",
        "\n",
        "# Test cases Definition as tuples of (input, expected_output)\n",
        "test_cases = [\n",
        "    (10, 2, 5),   # (a, b, expected result)\n",
        "    (20, 4, 5),\n",
        "    (30, 6, 5)\n",
        "]\n",
        "\n",
        "# Iterations through test cases\n",
        "for a, b, expected_result in test_cases:\n",
        "    result = divide(a, b)\n",
        "    assert result == expected_result, f\"Test failed for {a}/{b}. Expected {expected_result}, but got {result}\"\n",
        "\n",
        "print(\"All tests passed successfully.\")\n"
      ],
      "metadata": {
        "colab": {
          "base_uri": "https://localhost:8080/"
        },
        "id": "DQ51IYYThT__",
        "outputId": "252bf5e5-ac30-4438-b1b5-5afbd66de87d"
      },
      "execution_count": null,
      "outputs": [
        {
          "output_type": "stream",
          "name": "stdout",
          "text": [
            "All tests passed successfully.\n"
          ]
        }
      ]
    },
    {
      "cell_type": "markdown",
      "source": [
        "### Greatest Common Divisor"
      ],
      "metadata": {
        "id": "33u2yRMKox6q"
      }
    },
    {
      "cell_type": "code",
      "source": [
        "def gcd(a: int, b: int) -> int:\n",
        "\n",
        "  while b:\n",
        "    a, b = b, a % b\n",
        "  return a\n",
        "\n",
        "print(gcd(525, 390))\n"
      ],
      "metadata": {
        "colab": {
          "base_uri": "https://localhost:8080/"
        },
        "id": "WKJeG1VkVKsx",
        "outputId": "e1af7b29-4b3b-4832-ac7c-a634c16b4478"
      },
      "execution_count": null,
      "outputs": [
        {
          "output_type": "stream",
          "name": "stdout",
          "text": [
            "15\n"
          ]
        }
      ]
    },
    {
      "cell_type": "code",
      "source": [
        "print(gcd(18, 12))"
      ],
      "metadata": {
        "colab": {
          "base_uri": "https://localhost:8080/"
        },
        "id": "oBazTzqEiMZ6",
        "outputId": "99356960-cc60-4064-d39a-b8f40216ce76"
      },
      "execution_count": null,
      "outputs": [
        {
          "output_type": "stream",
          "name": "stdout",
          "text": [
            "6\n"
          ]
        }
      ]
    },
    {
      "cell_type": "code",
      "source": [
        "print(gcd(17, 23))"
      ],
      "metadata": {
        "colab": {
          "base_uri": "https://localhost:8080/"
        },
        "id": "oXLPJITZnFbV",
        "outputId": "94f0fef5-563e-4ff4-a623-f598452448a5"
      },
      "execution_count": null,
      "outputs": [
        {
          "output_type": "stream",
          "name": "stdout",
          "text": [
            "1\n"
          ]
        }
      ]
    },
    {
      "cell_type": "code",
      "source": [
        "print(gcd(0, 5))"
      ],
      "metadata": {
        "colab": {
          "base_uri": "https://localhost:8080/"
        },
        "id": "XuRGTlO6nW1l",
        "outputId": "34035540-cfc4-412e-ec7e-3876a6e60e12"
      },
      "execution_count": null,
      "outputs": [
        {
          "output_type": "stream",
          "name": "stdout",
          "text": [
            "5\n"
          ]
        }
      ]
    },
    {
      "cell_type": "code",
      "source": [
        "def gcd(a: int, b: int) -> int:\n",
        "\n",
        "    while b:\n",
        "        a, b = b, a % b\n",
        "    return a\n",
        "\n",
        "print(gcd(525, 390 ))\n",
        "\n",
        "def Test_gcd():\n",
        "    assert gcd(18,12) == 6\n",
        "    assert gcd(17, 23) == 1\n",
        "    assert gcd(40, 60) == 20\n",
        "    assert gcd(0, 5) == 5\n",
        "\n",
        "print('All tests passed sucessfully.')"
      ],
      "metadata": {
        "colab": {
          "base_uri": "https://localhost:8080/"
        },
        "id": "1IRnCaJuo7Wm",
        "outputId": "5ac35b0e-0575-41b4-a029-749d75078723"
      },
      "execution_count": null,
      "outputs": [
        {
          "output_type": "stream",
          "name": "stdout",
          "text": [
            "15\n",
            "All tests passed sucessfully.\n"
          ]
        }
      ]
    },
    {
      "cell_type": "markdown",
      "source": [
        "### Fizz Buzz"
      ],
      "metadata": {
        "id": "AJDzT1F7T_ZT"
      }
    },
    {
      "cell_type": "code",
      "source": [
        "print('Results are :')\n",
        "print('           ')\n",
        "for i in range(1, 101):\n",
        "  if i%3 == 0:\n",
        "    print('Fizz for 3 --> at i =',i)\n",
        "  elif i%5 == 0:\n",
        "    print('Buzz for 5 --> at i = ',i)\n",
        "  elif i%15 == 0:\n",
        "    print('FizzBuzz for 15 --> at = ',i)"
      ],
      "metadata": {
        "colab": {
          "base_uri": "https://localhost:8080/"
        },
        "id": "bkb6k-MLnnfR",
        "outputId": "3b8c95f6-a26e-4998-d085-94e2ca01359f"
      },
      "execution_count": null,
      "outputs": [
        {
          "output_type": "stream",
          "name": "stdout",
          "text": [
            "Results are :\n",
            "           \n",
            "Fizz for 3 --> at i = 3\n",
            "Buzz for 5 --> at i =  5\n",
            "Fizz for 3 --> at i = 6\n",
            "Fizz for 3 --> at i = 9\n",
            "Buzz for 5 --> at i =  10\n",
            "Fizz for 3 --> at i = 12\n",
            "Fizz for 3 --> at i = 15\n",
            "Fizz for 3 --> at i = 18\n",
            "Buzz for 5 --> at i =  20\n",
            "Fizz for 3 --> at i = 21\n",
            "Fizz for 3 --> at i = 24\n",
            "Buzz for 5 --> at i =  25\n",
            "Fizz for 3 --> at i = 27\n",
            "Fizz for 3 --> at i = 30\n",
            "Fizz for 3 --> at i = 33\n",
            "Buzz for 5 --> at i =  35\n",
            "Fizz for 3 --> at i = 36\n",
            "Fizz for 3 --> at i = 39\n",
            "Buzz for 5 --> at i =  40\n",
            "Fizz for 3 --> at i = 42\n",
            "Fizz for 3 --> at i = 45\n",
            "Fizz for 3 --> at i = 48\n",
            "Buzz for 5 --> at i =  50\n",
            "Fizz for 3 --> at i = 51\n",
            "Fizz for 3 --> at i = 54\n",
            "Buzz for 5 --> at i =  55\n",
            "Fizz for 3 --> at i = 57\n",
            "Fizz for 3 --> at i = 60\n",
            "Fizz for 3 --> at i = 63\n",
            "Buzz for 5 --> at i =  65\n",
            "Fizz for 3 --> at i = 66\n",
            "Fizz for 3 --> at i = 69\n",
            "Buzz for 5 --> at i =  70\n",
            "Fizz for 3 --> at i = 72\n",
            "Fizz for 3 --> at i = 75\n",
            "Fizz for 3 --> at i = 78\n",
            "Buzz for 5 --> at i =  80\n",
            "Fizz for 3 --> at i = 81\n",
            "Fizz for 3 --> at i = 84\n",
            "Buzz for 5 --> at i =  85\n",
            "Fizz for 3 --> at i = 87\n",
            "Fizz for 3 --> at i = 90\n",
            "Fizz for 3 --> at i = 93\n",
            "Buzz for 5 --> at i =  95\n",
            "Fizz for 3 --> at i = 96\n",
            "Fizz for 3 --> at i = 99\n",
            "Buzz for 5 --> at i =  100\n"
          ]
        }
      ]
    },
    {
      "cell_type": "code",
      "source": [
        "print('Results are :')\n",
        "print('           ')\n",
        "i = 1\n",
        "while i < 100:\n",
        "  if i%3 == 0:\n",
        "    print('Fizz for 3 --> at i =',i)\n",
        "  if i%5 == 0:\n",
        "    print('Buzz for 5 --> at i = ',i)\n",
        "  if i%15 == 0:\n",
        "    print('FizzBuzz for 15 --> at = ',i)"
      ],
      "metadata": {
        "colab": {
          "base_uri": "https://localhost:8080/",
          "height": 245
        },
        "id": "tZ34rtIQUiR7",
        "outputId": "bce7de36-aeff-4393-88de-bb1022ed340b"
      },
      "execution_count": null,
      "outputs": [
        {
          "output_type": "stream",
          "name": "stdout",
          "text": [
            "Results are :\n",
            "           \n"
          ]
        },
        {
          "output_type": "error",
          "ename": "KeyboardInterrupt",
          "evalue": "",
          "traceback": [
            "\u001b[0;31m---------------------------------------------------------------------------\u001b[0m",
            "\u001b[0;31mKeyboardInterrupt\u001b[0m                         Traceback (most recent call last)",
            "\u001b[0;32m<ipython-input-17-0104f4383f5c>\u001b[0m in \u001b[0;36m<cell line: 4>\u001b[0;34m()\u001b[0m\n\u001b[1;32m      5\u001b[0m   \u001b[0;32mif\u001b[0m \u001b[0mi\u001b[0m\u001b[0;34m%\u001b[0m\u001b[0;36m3\u001b[0m \u001b[0;34m==\u001b[0m \u001b[0;36m0\u001b[0m\u001b[0;34m:\u001b[0m\u001b[0;34m\u001b[0m\u001b[0;34m\u001b[0m\u001b[0m\n\u001b[1;32m      6\u001b[0m     \u001b[0mprint\u001b[0m\u001b[0;34m(\u001b[0m\u001b[0;34m'Fizz for 3 --> at i ='\u001b[0m\u001b[0;34m,\u001b[0m\u001b[0mi\u001b[0m\u001b[0;34m)\u001b[0m\u001b[0;34m\u001b[0m\u001b[0;34m\u001b[0m\u001b[0m\n\u001b[0;32m----> 7\u001b[0;31m   \u001b[0;32mif\u001b[0m \u001b[0mi\u001b[0m\u001b[0;34m%\u001b[0m\u001b[0;36m5\u001b[0m \u001b[0;34m==\u001b[0m \u001b[0;36m0\u001b[0m\u001b[0;34m:\u001b[0m\u001b[0;34m\u001b[0m\u001b[0;34m\u001b[0m\u001b[0m\n\u001b[0m\u001b[1;32m      8\u001b[0m     \u001b[0mprint\u001b[0m\u001b[0;34m(\u001b[0m\u001b[0;34m'Buzz for 5 --> at i = '\u001b[0m\u001b[0;34m,\u001b[0m\u001b[0mi\u001b[0m\u001b[0;34m)\u001b[0m\u001b[0;34m\u001b[0m\u001b[0;34m\u001b[0m\u001b[0m\n\u001b[1;32m      9\u001b[0m   \u001b[0;32mif\u001b[0m \u001b[0mi\u001b[0m\u001b[0;34m%\u001b[0m\u001b[0;36m15\u001b[0m \u001b[0;34m==\u001b[0m \u001b[0;36m0\u001b[0m\u001b[0;34m:\u001b[0m\u001b[0;34m\u001b[0m\u001b[0;34m\u001b[0m\u001b[0m\n",
            "\u001b[0;31mKeyboardInterrupt\u001b[0m: "
          ]
        }
      ]
    },
    {
      "cell_type": "code",
      "source": [
        "for number in range(0, 9999):\n",
        "    print(\"Number:\", number)"
      ],
      "metadata": {
        "id": "9fF_QiV3aAhG"
      },
      "execution_count": null,
      "outputs": []
    },
    {
      "cell_type": "markdown",
      "source": [
        "### Sorted List"
      ],
      "metadata": {
        "id": "ZWjW8-zlMwU6"
      }
    },
    {
      "cell_type": "code",
      "source": [
        "numbers = [12, 14, 11, 10, 9, 5, 44, 55, 26, 99]\n",
        "print(sorted(numbers))"
      ],
      "metadata": {
        "id": "RSm9xVcM0fZ8",
        "colab": {
          "base_uri": "https://localhost:8080/"
        },
        "outputId": "51b09bed-8a2a-4783-c3e3-bb544f617bf8"
      },
      "execution_count": null,
      "outputs": [
        {
          "output_type": "stream",
          "name": "stdout",
          "text": [
            "[5, 9, 10, 11, 12, 14, 26, 44, 55, 99]\n"
          ]
        }
      ]
    },
    {
      "cell_type": "code",
      "source": [
        "input_string = input('Enter numbers separated by commas or space tab: ')\n",
        "numbers_as_strings = input_string.split(' ')\n",
        "print(numbers_as_strings)\n",
        "numbers = [float(num) for num in numbers_as_strings]\n",
        "print(numbers)"
      ],
      "metadata": {
        "colab": {
          "base_uri": "https://localhost:8080/"
        },
        "id": "bQvU9Hp-M__u",
        "outputId": "51e6f639-a9e6-4a71-b865-395ab067117b"
      },
      "execution_count": null,
      "outputs": [
        {
          "output_type": "stream",
          "name": "stdout",
          "text": [
            "Enter numbers separated by commas or space tab: 11 23 4 55 6 9 8 11 2 3 44 5 67 21\n",
            "['11', '23', '4', '55', '6', '9', '8', '11', '2', '3', '44', '5', '67', '21']\n",
            "[11.0, 23.0, 4.0, 55.0, 6.0, 9.0, 8.0, 11.0, 2.0, 3.0, 44.0, 5.0, 67.0, 21.0]\n"
          ]
        }
      ]
    },
    {
      "cell_type": "markdown",
      "source": [
        "### UTesting of calculate_median funtion"
      ],
      "metadata": {
        "id": "jg1Yrox9XTu2"
      }
    },
    {
      "cell_type": "code",
      "source": [
        "from typing_extensions import Self\n",
        "def calculate_median(numbers: list) -> float:\n",
        "\n",
        "    sorted_nums = sorted(numbers)\n",
        "\n",
        "    if not numbers:\n",
        "        raise ValueError(\"List is empty\")\n",
        "\n",
        "    length = len(sorted_nums)\n",
        "\n",
        "    if length % 2 == 0:\n",
        "        return (\n",
        "            sorted_nums[length // 2 - 1] + sorted_nums[length // 2]\n",
        "        ) / 2\n",
        "    else:\n",
        "        return sorted_nums[length // 2]\n",
        "\n",
        "input_string = input('Enter numbers separated by commas or space tab: ')\n",
        "numbers_as_strings = input_string.split()\n",
        "print('List elemensts as strings O._.O :', numbers_as_strings)\n",
        "\n",
        "numbers_as_floats = [float(num) for num in numbers_as_strings]\n",
        "print('List elements before sorting them O~O :', numbers_as_floats)\n",
        "\n",
        "sorted_nums = sorted(numbers_as_floats)\n",
        "print('List elements after sorting them O_O :', sorted_nums)\n",
        "\n",
        "try:\n",
        "    median = calculate_median(sorted_nums)\n",
        "    print(\"Median:\", median)\n",
        "\n",
        "except ValueError as error:\n",
        "    print(error)\n",
        "\n",
        "def test_calculate_median():\n",
        "  assert calculate_median([1, 2, 3]) == 2\n",
        "  assert calculate_median([4, 5, 6, 7]) == 5.5\n",
        "  assert calculate_median([2, 1, 3]) == 2\n",
        "  assert calculate_median([0, 0, 0, 0]) == 0\n",
        "\n",
        "  try:\n",
        "        calculate_median([])\n",
        "        assert False  # This line should not be reached\n",
        "  except ValueError:\n",
        "        pass\n",
        "\n",
        "if __name__ == '__main__':\n",
        "    test_calculate_median()\n",
        "\n",
        "print('All tests passed succesfully.')\n"
      ],
      "metadata": {
        "colab": {
          "base_uri": "https://localhost:8080/"
        },
        "id": "B6AHzyPGcx4Z",
        "outputId": "fda3f01c-2892-4f67-d93b-077578812f1c"
      },
      "execution_count": 24,
      "outputs": [
        {
          "output_type": "stream",
          "name": "stdout",
          "text": [
            "Enter numbers separated by commas or space tab: 4 5 6 7\n",
            "List elemensts as strings O._.O : ['4', '5', '6', '7']\n",
            "List elements before sorting them O~O : [4.0, 5.0, 6.0, 7.0]\n",
            "List elements after sorting them O_O : [4.0, 5.0, 6.0, 7.0]\n",
            "Median: 5.5\n",
            "All tests passed succesfully.\n"
          ]
        }
      ]
    },
    {
      "cell_type": "code",
      "source": [],
      "metadata": {
        "id": "HeTFchqEUMKN"
      },
      "execution_count": 23,
      "outputs": []
    }
  ]
}