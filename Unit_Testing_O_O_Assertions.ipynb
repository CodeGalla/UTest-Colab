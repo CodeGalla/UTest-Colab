{
  "nbformat": 4,
  "nbformat_minor": 0,
  "metadata": {
    "colab": {
      "provenance": [],
      "authorship_tag": "ABX9TyM/2wP3IXlcw8z3zrPb0U1U",
      "include_colab_link": true
    },
    "kernelspec": {
      "name": "python3",
      "display_name": "Python 3"
    },
    "language_info": {
      "name": "python"
    }
  },
  "cells": [
    {
      "cell_type": "markdown",
      "metadata": {
        "id": "view-in-github",
        "colab_type": "text"
      },
      "source": [
        "<a href=\"https://colab.research.google.com/github/CodeGalla/UTest-Colab/blob/main/Unit_Testing_O_O_Assertions.ipynb\" target=\"_parent\"><img src=\"https://colab.research.google.com/assets/colab-badge.svg\" alt=\"Open In Colab\"/></a>"
      ]
    },
    {
      "cell_type": "markdown",
      "source": [
        "### Palindrome Unit Testing"
      ],
      "metadata": {
        "id": "rU4wFpcPZg36"
      }
    },
    {
      "cell_type": "code",
      "source": [
        "def is_palindrome(string: str) -> bool:\n",
        "\n",
        "    string = string.lower().replace(\" \", \"\")\n",
        "    return string == string[::-1]\n",
        "\n",
        "def test_is_palindrome():\n",
        "    assert is_palindrome(\"racecar\") == True, '<racecar> is palindrome'\n",
        "    assert is_palindrome(\"hello\") == False, '<hello> is not palindrome'\n",
        "    assert is_palindrome(\"A man a plan a canal Panama\") == True,' <A man a plan a canal Panama> is palindrome'\n",
        "    assert is_palindrome(\"12321\") == True, '<12321> is palindrome'\n",
        "    assert is_palindrome(\"not a palindrome\") == False, '<not a palindrome> is note palindrome'\n",
        "    print(\"All tests passed successfully.\")\n",
        "\n",
        "if __name__ == '__main__':\n",
        "    test_is_palindrome()"
      ],
      "metadata": {
        "colab": {
          "base_uri": "https://localhost:8080/"
        },
        "id": "QAO4q3v0ZVUY",
        "outputId": "f53f1741-9f3f-4850-b031-6b4f2b934af4"
      },
      "execution_count": 9,
      "outputs": [
        {
          "output_type": "stream",
          "name": "stdout",
          "text": [
            "All tests passed successfully.\n"
          ]
        }
      ]
    },
    {
      "cell_type": "markdown",
      "source": [
        "### Tests Cases as Tuple"
      ],
      "metadata": {
        "id": "Yxj-Aov7cDSd"
      }
    },
    {
      "cell_type": "code",
      "source": [
        "def find_max_min(numbers: list) -> tuple:\n",
        "\n",
        "    if not numbers:\n",
        "        raise ValueError(\"List is empty\")\n",
        "\n",
        "    maximum = minimum = numbers[0]\n",
        "\n",
        "    for number in numbers[1:]:\n",
        "        if number > maximum:\n",
        "            maximum = number\n",
        "        elif number < minimum:\n",
        "            minimum = number\n",
        "\n",
        "    return maximum, minimum\n",
        "\n",
        "def test_find_max_min():\n",
        "    assert find_max_min([1, 2, 3, 4, 5]) == (5, 1)\n",
        "    assert find_max_min([10, 5, 7, 3, 8]) == (10, 3)\n",
        "    assert find_max_min([-1, -2, -3, -4, -5]) == (-1,-5)\n",
        "    assert find_max_min([0]) == (0, 0)\n",
        "\n",
        "    try:\n",
        "\n",
        "        find_max_min([])\n",
        "        assert False # This line should not be reach\n",
        "\n",
        "    except ValueError:\n",
        "        pass\n",
        "\n",
        "    print('All tests passed successfully.')\n",
        "\n",
        "if __name__ == '__main__':\n",
        "    test_find_max_min()"
      ],
      "metadata": {
        "colab": {
          "base_uri": "https://localhost:8080/"
        },
        "id": "VFArVQL0ZvSx",
        "outputId": "099aac8f-380e-4754-c7ea-9b9495f6db70"
      },
      "execution_count": 17,
      "outputs": [
        {
          "output_type": "stream",
          "name": "stdout",
          "text": [
            "All tests passed successfully.\n"
          ]
        }
      ]
    },
    {
      "cell_type": "code",
      "source": [
        "def divide(a: float, b: float) -> float:\n",
        "    assert b != 0, \"Divisor cannot be zero\"\n",
        "    return a / b\n",
        "\n",
        "# Test cases Definition as tuples of (input, expected_output)\n",
        "test_cases = [\n",
        "    (10, 2, 5),   # (a, b, expected result)\n",
        "    (20, 4, 5),\n",
        "    (30, 6, 5)\n",
        "]\n",
        "\n",
        "# Iterations through test cases\n",
        "for a, b, expected_result in test_cases:\n",
        "    result = divide(a, b)\n",
        "    assert result == expected_result, f\"Test failed for {a}/{b}. Expected {expected_result}, but got {result}\"\n",
        "\n",
        "print(\"All tests passed successfully.\")\n"
      ],
      "metadata": {
        "colab": {
          "base_uri": "https://localhost:8080/"
        },
        "id": "DQ51IYYThT__",
        "outputId": "252bf5e5-ac30-4438-b1b5-5afbd66de87d"
      },
      "execution_count": 4,
      "outputs": [
        {
          "output_type": "stream",
          "name": "stdout",
          "text": [
            "All tests passed successfully.\n"
          ]
        }
      ]
    },
    {
      "cell_type": "code",
      "source": [],
      "metadata": {
        "id": "WKJeG1VkVKsx"
      },
      "execution_count": null,
      "outputs": []
    }
  ]
}